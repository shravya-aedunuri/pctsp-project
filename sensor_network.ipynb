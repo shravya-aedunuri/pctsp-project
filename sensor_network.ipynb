{
 "cells": [
  {
   "cell_type": "code",
   "execution_count": null,
   "metadata": {
    "colab": {
     "base_uri": "https://localhost:8080/"
    },
    "id": "-Hctt7qg4E7d",
    "outputId": "59bb6669-6459-4cb0-dee6-613cbf21ab3b"
   },
   "outputs": [],
   "source": [
    "import random\n",
    "import networkx as nx\n",
    "\n",
    "# Preset parameters\n",
    "default_width = 2000\n",
    "default_length = 2000\n",
    "default_sensor_count = 100\n",
    "default_transmission_distance = 400\n",
    "default_dn_count = 50\n",
    "default_max_packets = 1000\n",
    "\n",
    "# Request user input\n",
    "width = int(input(f\"Input the width of the sensor network (default: {default_width} meters): \") or default_width)\n",
    "length = int(input(f\"Input the length of the sensor network (default: {default_length} meters): \") or default_length)\n",
    "sensor_count = int(input(f\"Input the number of sensor nodes (default: {default_sensor_count}): \") or default_sensor_count)\n",
    "transmission_distance = int(input(f\"Input the transmission range (default: {default_transmission_distance} meters): \") or default_transmission_distance)\n",
    "dn_count = int(input(f\"Input the number of DNs (default: {default_dn_count}): \") or default_dn_count)\n",
    "max_packets = int(input(f\"Input the maximum number of data packets each DN has (default: {default_max_packets}): \") or default_max_packets)\n",
    "\n",
    "# Generate a graph\n",
    "G = nx.random_geometric_graph(sensor_count, transmission_distance/(width**2+length**2)**0.5)\n",
    "\n",
    "# Ensure the graph is connected\n",
    "if not nx.is_connected(G):\n",
    "    print(\"The network is not connected. Please input again.\")\n",
    "    # Request user input\n",
    "    width = int(input(f\"Input the width of the sensor network (default: {default_width} meters): \") or default_width)\n",
    "    length = int(input(f\"Input the length of the sensor network (default: {default_length} meters): \") or default_length)\n",
    "    sensor_count = int(input(f\"Input the number of sensor nodes (default: {default_sensor_count}): \") or default_sensor_count)\n",
    "    transmission_distance = int(input(f\"Input the transmission range (default: {default_transmission_distance} meters): \") or default_transmission_distance)\n",
    "    dn_count = int(input(f\"Input the number of DNs (default: {default_dn_count}): \") or default_dn_count)\n",
    "    max_packets = int(input(f\"Input the maximum number of data packets each DN has (default: {default_max_packets}): \") or default_max_packets)\n",
    "else:\n",
    "    # Allocate a random number of data packets to each DN\n",
    "    DNs = random.sample(list(G.nodes), dn_count)\n",
    "    for node in DNs:\n",
    "        G.nodes[node]['data_packets'] = random.randint(1, max_packets)\n",
    "\n",
    "    # Display the IDs of DNs and the number of data items each has\n",
    "    for node in DNs:\n",
    "        print(f\"Node {node}: {G.nodes[node]['data_packets']} data packets\")"
   ]
  },
  {
   "cell_type": "code",
   "execution_count": null,
   "metadata": {
    "id": "E3uar75U8oNU"
   },
   "outputs": [],
   "source": []
  },
  {
   "cell_type": "code",
   "execution_count": null,
   "metadata": {},
   "outputs": [],
   "source": []
  },
  {
   "cell_type": "code",
   "execution_count": null,
   "metadata": {},
   "outputs": [],
   "source": []
  }
 ],
 "metadata": {
  "colab": {
   "provenance": []
  },
  "kernelspec": {
   "display_name": "Python 3 (ipykernel)",
   "language": "python",
   "name": "python3"
  },
  "language_info": {
   "codemirror_mode": {
    "name": "ipython",
    "version": 3
   },
   "file_extension": ".py",
   "mimetype": "text/x-python",
   "name": "python",
   "nbconvert_exporter": "python",
   "pygments_lexer": "ipython3",
   "version": "3.11.2"
  }
 },
 "nbformat": 4,
 "nbformat_minor": 1
}
